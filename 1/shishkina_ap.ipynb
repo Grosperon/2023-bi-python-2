{
 "cells": [
  {
   "cell_type": "code",
   "execution_count": 14,
   "metadata": {},
   "outputs": [
    {
     "data": {
      "application/vnd.jupyter.widget-view+json": {
       "model_id": "9c56c9d15c2547a88b4c4d45819bdbe9",
       "version_major": 2,
       "version_minor": 0
      },
      "text/plain": [
       "interactive(children=(FloatSlider(value=1.0, description='a', max=10.0, min=0.1), FloatSlider(value=1.0, descr…"
      ]
     },
     "execution_count": 14,
     "metadata": {},
     "output_type": "execute_result"
    }
   ],
   "source": [
    "%matplotlib ipympl\n",
    "import numpy as np\n",
    "import matplotlib.pyplot as plt\n",
    "import ipywidgets as widgets\n",
    "\n",
    "#P(x)=x^3-a*x^2-b*x\n",
    "#z**2 -c*y**2 = P(x) \n",
    "\n",
    "def Chatelet_surface (a,b,c):\n",
    "    fig = plt.figure()\n",
    "    ax = fig.add_subplot(111, projection='3d')\n",
    "\n",
    "    x = np.linspace(-10, 10, 100)\n",
    "    y = np.linspace(-10, 10, 100)\n",
    "    x, y = np.meshgrid(x, y)\n",
    "    z = np.sqrt(x**3 - a*x**2 - b*x + c*(y**2))\n",
    "\n",
    "    ax.plot_surface(x, y, z, cmap='viridis')\n",
    "    ax.set_xlabel('X')\n",
    "    ax.set_ylabel('Y')\n",
    "    ax.set_zlabel('Z')\n",
    "    plt.show()\n",
    "\n",
    "\n",
    "a_slider = widgets.FloatSlider(value=1.0, min=0.1, max=10, step=0.1, description='a')\n",
    "b_slider = widgets.FloatSlider(value=1.0, min=0.1, max=10, step=0.1, description='b')\n",
    "c_slider = widgets.FloatSlider(value=1.0, min=0.1, max=10, step=0.1, description='c')\n",
    "widgets.interactive(hyperboloid, a=a_slider, b=b_slider, c=c_slider)\n",
    "\n"
   ]
  },
  {
   "cell_type": "code",
   "execution_count": null,
   "metadata": {},
   "outputs": [],
   "source": []
  }
 ],
 "metadata": {
  "kernelspec": {
   "display_name": "Python 3 (ipykernel)",
   "language": "python",
   "name": "python3"
  },
  "language_info": {
   "codemirror_mode": {
    "name": "ipython",
    "version": 3
   },
   "file_extension": ".py",
   "mimetype": "text/x-python",
   "name": "python",
   "nbconvert_exporter": "python",
   "pygments_lexer": "ipython3",
   "version": "3.10.5"
  }
 },
 "nbformat": 4,
 "nbformat_minor": 4
}
